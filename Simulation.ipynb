{
 "cells": [
  {
   "cell_type": "markdown",
   "metadata": {},
   "source": [
    "## SANDAG UrbanSim"
   ]
  },
  {
   "cell_type": "code",
   "execution_count": 1,
   "metadata": {
    "collapsed": false
   },
   "outputs": [],
   "source": [
    "import orca\n",
    "import models"
   ]
  },
  {
   "cell_type": "markdown",
   "metadata": {},
   "source": [
    "### Run all models"
   ]
  },
  {
   "cell_type": "code",
   "execution_count": null,
   "metadata": {
    "collapsed": false,
    "scrolled": true
   },
   "outputs": [],
   "source": [
    "first_year = 2013\n",
    "last_year = 2015\n",
    "orca.run([\"build_networks\"]) #initialize network accessibility engine\n",
    "orca.run([\"scheduled_development_events\", \n",
    "          \"neighborhood_vars\", # accessibility variables\n",
    "          \"rsh_simulate\", \n",
    "          \"nrh_simulate\", \n",
    "          \"nrh_simulate2\",   \n",
    "          \"jobs_transition\",\n",
    "          \"jobs_relocation\",\n",
    "          \"elcm_simulate\", \n",
    "          \"households_transition_basic\",\n",
    "          \"households_relocation\",\n",
    "          \"hlcm_simulate\", #demand/location models\n",
    "          \"price_vars\", \n",
    "          \"feasibility\", #supply/proforma models\n",
    "          \"residential_developer\", \n",
    "          \"non_residential_developer\",\n",
    "          \"model_integration_indicators\",\n",
    "          \"buildings_to_uc\", #export buildings to urban canvas\n",
    "         ], iter_vars=range(first_year, \n",
    "                            last_year + 1))"
   ]
  },
  {
   "cell_type": "markdown",
   "metadata": {},
   "source": [
    "### Indicators"
   ]
  },
  {
   "cell_type": "code",
   "execution_count": 3,
   "metadata": {
    "collapsed": false
   },
   "outputs": [
    {
     "name": "stdout",
     "output_type": "stream",
     "text": [
      "Running step 'msa_indicators'\n",
      "msa_id\n",
      "0         0.364040\n",
      "1         0.598762\n",
      "2         0.008361\n",
      "3         0.000180\n",
      "4         0.028587\n",
      "5         0.000070\n",
      "Name: residential_units, dtype: float64\n",
      "msa_id\n",
      "0         0.232937\n",
      "1         0.550882\n",
      "2         0.147902\n",
      "3         0.000203\n",
      "4         0.067606\n",
      "5         0.000470\n",
      "Name: non_residential_sqft, dtype: float64\n",
      "Time to execute step 'msa_indicators': 1.46 s\n",
      "Running step 'luz_indicators'\n",
      "du                111127.000000\n",
      "nonres_price        3958.184745\n",
      "nrsf            41781161.453378\n",
      "res_price          41199.186302\n",
      "hh_diff            84048.000000\n",
      "emp_diff           64305.000000\n",
      "dtype: float64\n",
      "Time to execute step 'luz_indicators': 16.52 s\n",
      "Total time to execute iteration 1 with iteration value None: 17.98 s\n"
     ]
    }
   ],
   "source": [
    "orca.run([\"msa_indicators\", \"luz_indicators\"])"
   ]
  }
 ],
 "metadata": {
  "kernelspec": {
   "display_name": "Python 2",
   "language": "python",
   "name": "python2"
  },
  "language_info": {
   "codemirror_mode": {
    "name": "ipython",
    "version": 2
   },
   "file_extension": ".py",
   "mimetype": "text/x-python",
   "name": "python",
   "nbconvert_exporter": "python",
   "pygments_lexer": "ipython2",
   "version": "2.7.9"
  }
 },
 "nbformat": 4,
 "nbformat_minor": 0
}
