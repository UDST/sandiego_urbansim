{
 "cells": [
  {
   "cell_type": "markdown",
   "metadata": {},
   "source": [
    "## SANDAG UrbanSim"
   ]
  },
  {
   "cell_type": "code",
   "execution_count": null,
   "metadata": {
    "collapsed": false
   },
   "outputs": [],
   "source": [
    "import orca\n",
    "import models"
   ]
  },
  {
   "cell_type": "markdown",
   "metadata": {},
   "source": [
    "### Run all models"
   ]
  },
  {
   "cell_type": "code",
   "execution_count": null,
   "metadata": {
    "collapsed": false,
    "scrolled": true
   },
   "outputs": [],
   "source": [
    "first_year = 2013\n",
    "last_year = 2013\n",
    "orca.run([\"build_networks\"]) #initialize network accessibility engine\n",
    "orca.run([\"scheduled_development_events\", \n",
    "          \"neighborhood_vars\", # accessibility variables\n",
    "          \"rsh_simulate\", \n",
    "          \"nrh_simulate\", \n",
    "          \"nrh_simulate2\",   \n",
    "          \"jobs_transition\",\n",
    "          \"jobs_relocation\",\n",
    "          \"elcm_simulate\", \n",
    "          \"households_transition_basic\",\n",
    "          \"households_relocation\",\n",
    "          \"hlcm_simulate\", #demand/location models\n",
    "          \"price_vars\", \n",
    "          \"feasibility\", #supply/proforma models\n",
    "          \"residential_developer\", \n",
    "          \"non_residential_developer\",\n",
    "          \"model_integration_indicators\",\n",
    "          \"buildings_to_uc\", #export buildings to urban canvas\n",
    "         ], iter_vars=range(first_year, \n",
    "                            last_year + 1))"
   ]
  },
  {
   "cell_type": "markdown",
   "metadata": {},
   "source": [
    "### Indicators"
   ]
  },
  {
   "cell_type": "code",
   "execution_count": null,
   "metadata": {
    "collapsed": false
   },
   "outputs": [],
   "source": [
    "orca.run([\"msa_indicators\", \"luz_indicators\"])"
   ]
  }
 ],
 "metadata": {
  "kernelspec": {
   "display_name": "Python 2",
   "language": "python",
   "name": "python2"
  },
  "language_info": {
   "codemirror_mode": {
    "name": "ipython",
    "version": 2
   },
   "file_extension": ".py",
   "mimetype": "text/x-python",
   "name": "python",
   "nbconvert_exporter": "python",
   "pygments_lexer": "ipython2",
   "version": "2.7.9"
  }
 },
 "nbformat": 4,
 "nbformat_minor": 0
}
